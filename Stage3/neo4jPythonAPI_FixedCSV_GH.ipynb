{
 "cells": [
  {
   "cell_type": "markdown",
   "metadata": {},
   "source": [
    "# Neo4j Python API Practice (with CSV Files on internet)\n",
    "### Overview:\n",
    "\n",
    "Teresa will write her own python code in Jupyter Notebook where...\n",
    "- She will access a Neo4j database (local)\n",
    "- She will reference a folder full of .cypher files\n",
    "- She will run CYPHER queries to load/create entire database from CSV files\n",
    "- She will attempt to connect to a cloud DB and run queries after success of all other steps.\n",
    "  \n",
    "### Motivation:\n",
    "- Establish python code that can be used in an automated pipeline.\n",
    "- Progress toward a \"touch-less\" graph database and data management system."
   ]
  },
  {
   "cell_type": "markdown",
   "metadata": {},
   "source": [
    "## Step 0:\n",
    "\n",
    "If you are attempting to run this code:\n",
    "\n",
    "**Local Database**: you will first need to start your own local DBMS using the [Neo4j Desktop App](https://neo4j.com/download/?utm_source=Google&utm_medium=PaidSearch&utm_campaign=Evergreen&utm_content=AMS-Search-SEMBrand-Evergreen-None-SEM-SEM-NonABM&utm_term=download%20neo4j&utm_adgroup=download&gad_source=1&gclid=Cj0KCQjwpNuyBhCuARIsANJqL9Mfw2KSzysHnaaX0w_SPaPP49aDQPg5k6T-joWu_UnTcMYiWsrE4NEaAm4TEALw_wcB).\n",
    "\n",
    "The default Bolt Port that is used should be 7687, but you can change the code to match your settings.\n",
    "\n",
    "**Cloud Database**: Make sure you have a *practice* cloud database currently running.  Don't mess up a real database with this practice."
   ]
  },
  {
   "cell_type": "markdown",
   "metadata": {},
   "source": [
    "## Step 1: Load the required packages, as usual:"
   ]
  },
  {
   "cell_type": "code",
   "execution_count": 1,
   "metadata": {},
   "outputs": [],
   "source": [
    "from neo4j import GraphDatabase\n",
    "import os"
   ]
  },
  {
   "cell_type": "markdown",
   "metadata": {},
   "source": [
    "## Step 2: Connect to a database:"
   ]
  },
  {
   "cell_type": "markdown",
   "metadata": {},
   "source": [
    "### Establish the DRIVER"
   ]
  },
  {
   "cell_type": "markdown",
   "metadata": {},
   "source": [
    "#### Local Option"
   ]
  },
  {
   "cell_type": "code",
   "execution_count": 2,
   "metadata": {},
   "outputs": [],
   "source": [
    "# URI examples: \"neo4j://localhost\", \"neo4j+s://xxx.databases.neo4j.io\"\n",
    "URI = \"neo4j://localhost:7687\" # Specify URI of already running database\n",
    "AUTH = (\"neo4j\",\"thisispractice\") # Enter username and password (this should probably be a reqeusted input in final product)\n",
    "\n",
    "with GraphDatabase.driver(URI, auth=AUTH) as driver:\n",
    "    driver.verify_connectivity()"
   ]
  },
  {
   "cell_type": "markdown",
   "metadata": {},
   "source": [
    "#### Cloud Option"
   ]
  },
  {
   "cell_type": "code",
   "execution_count": null,
   "metadata": {},
   "outputs": [],
   "source": [
    "# URI examples: \"neo4j://localhost\", \"neo4j+s://xxx.databases.neo4j.io\"\n",
    "URI = \"\" # Specify URI of already running database\n",
    "AUTH = (\"neo4j\",\"\") # Enter username and password (this should probably be a reqeusted input in final product)\n",
    "\n",
    "with GraphDatabase.driver(URI, auth=AUTH) as driver:\n",
    "    driver.verify_connectivity()"
   ]
  },
  {
   "cell_type": "markdown",
   "metadata": {},
   "source": [
    "## Step 3: Specify directory where I want to run cypher files"
   ]
  },
  {
   "cell_type": "code",
   "execution_count": 3,
   "metadata": {},
   "outputs": [],
   "source": [
    "directory = \"\""
   ]
  },
  {
   "cell_type": "markdown",
   "metadata": {},
   "source": [
    "## Step 4: Navigate through folders and execute cypher code(s) in each one"
   ]
  },
  {
   "cell_type": "code",
   "execution_count": 4,
   "metadata": {},
   "outputs": [],
   "source": [
    "# Define parameters for use in cypher codes (they cannot be hard coded into the queries)\n",
    "params = {\n",
    "    \"users_link\" :  \"https://raw.githubusercontent.com/lteresah/AMLS-GraphDatabase/main/Stage2/CSVs_Version2/Neo4j_UsersF.csv\",\n",
    "    \"OTC_ingredients_link\" : \"https://raw.githubusercontent.com/lteresah/AMLS-GraphDatabase/main/Stage2/CSVs_Version2/Neo4j_OTC_Ingredients.csv\",\n",
    "    \"mix_makepre_link\" : \"https://raw.githubusercontent.com/lteresah/AMLS-GraphDatabase/main/Stage2/CSVs_Version2/Neo4j_op_MixMakePre.csv\",\n",
    "    \"heat_link\" : \"https://raw.githubusercontent.com/lteresah/AMLS-GraphDatabase/main/Stage2/CSVs_Version2/Neo4j_op_Heat.csv\",\n",
    "    \"rest_link\" : \"https://raw.githubusercontent.com/lteresah/AMLS-GraphDatabase/main/Stage2/CSVs_Version2/Neo4j_op_Rest.csv\",\n",
    "    \"mix_makesamp_link\" : \"https://raw.githubusercontent.com/lteresah/AMLS-GraphDatabase/main/Stage2/CSVs_Version2/Neo4j_op_MixMakeSamp.csv\",\n",
    "    \"idsToSkip\": []\n",
    "}"
   ]
  },
  {
   "cell_type": "markdown",
   "metadata": {},
   "source": [
    "### Mini Function Repository"
   ]
  },
  {
   "cell_type": "code",
   "execution_count": 6,
   "metadata": {},
   "outputs": [],
   "source": [
    "# Function that separates cyph files from directories within the current directory and orders them alphabetically (important)\n",
    "# Node constraints must be created first, then nodes, then relationships\n",
    "def separate_cyphdir():\n",
    "    dirobs = os.listdir()\n",
    "    cyphfiles = []\n",
    "    dirs = []\n",
    "    for ob in dirobs:\n",
    "        if os.path.isfile(ob) and ob.endswith(\".cypher\"):\n",
    "            cyphfiles.append(ob)\n",
    "        if os.path.isdir(ob):\n",
    "            dirs.append(ob)\n",
    "    cyphfiles = sorted(cyphfiles)\n",
    "    dirs = sorted(dirs)\n",
    "    print(f\"Found cypher files: {cyphfiles}\")\n",
    "    print(f\"Found directories: {dirs}\")\n",
    "    return cyphfiles, dirs\n",
    "\n",
    "# Function that executes every .cypher file in current directory (not including subdirectories)\n",
    "def execute_cyphs(cyphfiles,params):\n",
    "     with GraphDatabase.driver(URI, auth=AUTH) as driver:\n",
    "        with driver.session(database=\"neo4j\") as session:\n",
    "            for file in cyphfiles:\n",
    "                f = open(file)\n",
    "                ff = f.read()\n",
    "                session.run(ff,params)\n",
    "                print(f\"Executed {file}\")\n"
   ]
  },
  {
   "cell_type": "markdown",
   "metadata": {},
   "source": [
    "#### Plans for a recursive function\n",
    "For a specified directory:\n",
    "1. Enter the directory \n",
    "2. List elements in directory\n",
    "3. Separate Cyph Files and Directories\n",
    "4. Run every cyph file in Directory\n",
    "5. For each directory in the directory:\n",
    "- Repeat 1-5\n",
    "6. Return to directory above \n"
   ]
  },
  {
   "cell_type": "code",
   "execution_count": 7,
   "metadata": {},
   "outputs": [],
   "source": [
    "# Function which runs all cypher files within the directory (including subdirectories)\n",
    "def execute_cyphs_alldir(directory,params, count = 0):\n",
    "    if count == 0:\n",
    "        curdir = \"\"\n",
    "    else:\n",
    "        curdir = os.getcwd()\n",
    "    os.chdir(directory)\n",
    "    print(f\"Entered {curdir}/{directory}\")\n",
    "    cyphs, dirs = separate_cyphdir()\n",
    "    execute_cyphs(cyphs,params)\n",
    "    for dir in dirs:\n",
    "        execute_cyphs_alldir(dir,params, count + 1)\n",
    "    os.chdir(\"..\")"
   ]
  },
  {
   "cell_type": "markdown",
   "metadata": {},
   "source": [
    "#### Run the recursive function to execute all cyph files in specified directory"
   ]
  },
  {
   "cell_type": "code",
   "execution_count": null,
   "metadata": {},
   "outputs": [],
   "source": [
    "execute_cyphs_alldir(directory,params)\n",
    "driver.close()"
   ]
  }
 ],
 "metadata": {
  "kernelspec": {
   "display_name": "Neo4jEnv",
   "language": "python",
   "name": "python3"
  },
  "language_info": {
   "codemirror_mode": {
    "name": "ipython",
    "version": 3
   },
   "file_extension": ".py",
   "mimetype": "text/x-python",
   "name": "python",
   "nbconvert_exporter": "python",
   "pygments_lexer": "ipython3",
   "version": "3.1.-1"
  }
 },
 "nbformat": 4,
 "nbformat_minor": 2
}
