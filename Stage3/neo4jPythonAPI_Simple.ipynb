{
 "cells": [
  {
   "cell_type": "markdown",
   "metadata": {},
   "source": [
    "# Neo4j Python API Practice (with Simple Transactions)\n",
    "### Overview:\n",
    "\n",
    "Teresa will write her own Jupyter Notebook where...\n",
    "- She will access a Neo4j database (local)\n",
    "- She will create simple nodes and relationshps and write them to the database\n",
    "- She will read from the database\n",
    "- Documentation she is using at this [link](https://neo4j.com/docs/python-manual/current/).  See also this [link](https://neo4j.com/docs/api/python-driver/current/api.html), but it is more confusing\n",
    "  \n",
    "### Motivation:\n",
    "- Become familiar with Neo4j Python API\n",
    "- Put together the beginnings of a \"Touch-less Data Management System\" for the Buonassisi Lab\n",
    "- Continue practicing with python language and Jupyter Notebook"
   ]
  },
  {
   "cell_type": "markdown",
   "metadata": {},
   "source": [
    "## Step 0:\n",
    "\n",
    "If you are attempting to run this code, you will first need to start your own local DBMS using the [Neo4j Desktop App](https://neo4j.com/download/?utm_source=Google&utm_medium=PaidSearch&utm_campaign=Evergreen&utm_content=AMS-Search-SEMBrand-Evergreen-None-SEM-SEM-NonABM&utm_term=download%20neo4j&utm_adgroup=download&gad_source=1&gclid=Cj0KCQjwpNuyBhCuARIsANJqL9Mfw2KSzysHnaaX0w_SPaPP49aDQPg5k6T-joWu_UnTcMYiWsrE4NEaAm4TEALw_wcB).\n",
    "\n",
    "The default Bolt Port that is used should be 7687, but you can change the code to match your settings."
   ]
  },
  {
   "cell_type": "markdown",
   "metadata": {},
   "source": [
    "## Step 1: Load the required packages, as usual:"
   ]
  },
  {
   "cell_type": "code",
   "execution_count": 140,
   "metadata": {},
   "outputs": [],
   "source": [
    "from neo4j import GraphDatabase\n",
    "import pandas as pd"
   ]
  },
  {
   "cell_type": "markdown",
   "metadata": {},
   "source": [
    "## Step 2: Connect to a database:"
   ]
  },
  {
   "cell_type": "markdown",
   "metadata": {},
   "source": [
    "### Establish the DRIVER"
   ]
  },
  {
   "cell_type": "code",
   "execution_count": 59,
   "metadata": {},
   "outputs": [],
   "source": [
    "# URI examples: \"neo4j://localhost\", \"neo4j+s://xxx.databases.neo4j.io\"\n",
    "URI = \"neo4j://localhost:7687\" # Specify URI of already running database\n",
    "AUTH = (\"neo4j\",\"thisispractice\") # Enter username and password (this should probably be a reqeusted input in final product)\n",
    "\n",
    "with GraphDatabase.driver(URI, auth=AUTH) as driver:\n",
    "    driver.verify_connectivity()"
   ]
  },
  {
   "cell_type": "markdown",
   "metadata": {},
   "source": [
    "## Step 3: Create node(s) and relationships(s) in the database:"
   ]
  },
  {
   "cell_type": "code",
   "execution_count": 36,
   "metadata": {},
   "outputs": [],
   "source": [
    "# Create constraints first so that I don't duplicate nodes when running this practice.\n",
    "# Apparently: One needs to run these separately if using a driver (which we are), but you can run them in one query if using Neo4j Browser if you separate with ;.\n",
    "with GraphDatabase.driver(URI, auth=AUTH) as driver:\n",
    "    driver.execute_query(\"\"\"\n",
    "                    CREATE CONSTRAINT `name person_uniq` IF NOT EXISTS\n",
    "                    FOR (n: `Person`)\n",
    "                    REQUIRE (n.`name`) IS UNIQUE;\n",
    "                     \"\"\",\n",
    "                     database = \"neo4j\")\n",
    "    driver.execute_query(\"\"\"\n",
    "                    CREATE CONSTRAINT `name dog_uniq` IF NOT EXISTS\n",
    "                    FOR (d: `Dog`)\n",
    "                    REQUIRE (d.`name`) IS UNIQUE\n",
    "                     \"\"\",\n",
    "                     database = \"neo4j\") # it was recommended to always specify the database for performancy optimization, standard configuration is one main database called \"neo4j\"\n",
    "    driver.close() #closing the driver for security reasons, but opening and closing a connection is a costly operation. You should not do this after every query in your final product.\n"
   ]
  },
  {
   "cell_type": "code",
   "execution_count": 37,
   "metadata": {},
   "outputs": [],
   "source": [
    "# Create 2 nodes (Person) and (Dog) where Person -LOVES-> Dog\n",
    "with GraphDatabase.driver(URI, auth=AUTH) as driver:\n",
    "    # MERGE is a combination of CREATE and MATCH\n",
    "    # Using this allows me to overwrite data rather than create new nodes if I run this code more than once.\n",
    "    driver.execute_query(\"\"\"\n",
    "                         MERGE (p:Person {name: \"Teresa\"}) // Create a person node with name property = \"Teresa\"\n",
    "                         SET p.DOB = date(\"0001-01-01\") // Set the DOB property of the person to \"0001-01-01\n",
    "                         MERGE (d:Dog {name: \"Snow\"}) // Create a dog node with name property = \"Snow\"\n",
    "                         SET d.Breed = \"Mutt\" // Set the Breed property of the dog to \"Mutt\"\n",
    "                         MERGE (p) -[:LOVES]-> (d) // Create the relationship (person named Teresa) -[LOVES]-> (dog named Snow) \"\"\",\n",
    "                         database = \"neo4j\")\n",
    "    driver.close()\n",
    "                         "
   ]
  },
  {
   "cell_type": "markdown",
   "metadata": {},
   "source": [
    "## Step 4: Query (Read) from the database"
   ]
  },
  {
   "cell_type": "markdown",
   "metadata": {},
   "source": [
    "Note: I already checked that the creation step worked by having Neo4j Bloom opened simultaneously.  This section is more to demonstrate how to query (and have it printed/displayed) through python.\n",
    "\n",
    "In order to have the results of a query returned in python, one must save the records, summary, keys of the driver.execute_query() function."
   ]
  },
  {
   "cell_type": "markdown",
   "metadata": {},
   "source": [
    "### Creating some new nodes just to make the outputs more interesting"
   ]
  },
  {
   "cell_type": "code",
   "execution_count": 41,
   "metadata": {},
   "outputs": [],
   "source": [
    "with GraphDatabase.driver(URI, auth=AUTH) as driver:\n",
    "    driver.execute_query(\"\"\"\n",
    "                         MERGE (michael:Person {name: \"Michael\"})\n",
    "                         SET michael.DOB = date(\"0010-01-01\")\n",
    "                         MERGE (tracy:Person {name: \"Tracy\"})\n",
    "                         SET tracy.DOB= date(\"0002-01-01\")\n",
    "                         WITH tracy, michael\n",
    "                            MATCH (d:Dog {name: \"Snow\"})\n",
    "                            MERGE (tracy) -[:LOVES]-> (d)\n",
    "                            MERGE (d) -[:HATES]-> (michael) \"\"\",\n",
    "                         database = \"neo4j\")\n",
    "    driver.close()"
   ]
  },
  {
   "cell_type": "markdown",
   "metadata": {},
   "source": [
    "### Now actually executing the query"
   ]
  },
  {
   "cell_type": "code",
   "execution_count": 141,
   "metadata": {},
   "outputs": [
    {
     "name": "stdout",
     "output_type": "stream",
     "text": [
      "{'name': 'Teresa', 'DOB': neo4j.time.Date(1, 1, 1)}\n",
      "{'name': 'Tracy', 'DOB': neo4j.time.Date(2, 1, 1)}\n",
      "{'name': 'Michael', 'DOB': neo4j.time.Date(10, 1, 1)}\n",
      "The query `MATCH (p:Person) RETURN p.name AS name, p.DOB as DOB` returned 3 records in 1 ms.\n",
      "Available keys are ['name', 'DOB']\n"
     ]
    }
   ],
   "source": [
    "# Query\n",
    "with GraphDatabase.driver(URI, auth=AUTH) as driver:\n",
    "   records, summary, keys = driver.execute_query(\n",
    "    \"MATCH (p:Person) RETURN p.name AS name, p.DOB as DOB\",\n",
    "    database_=\"neo4j\")\n",
    "driver.close()\n",
    "\n",
    "# Loop through results and do something with them\n",
    "#for record in records:\n",
    "#    print(record)  # obtain returned persons and all info as list\n",
    "for record in records: \n",
    "    print(record.data()) #obtain record as dict\n",
    "\n",
    "# Summary information\n",
    "print(\"The query `{query}` returned {records_count} records in {time} ms.\".format(\n",
    "    query=summary.query, records_count=len(records),\n",
    "    time=summary.result_available_after\n",
    "))\n",
    "\n",
    "print(f\"Available keys are {keys}\")  # ['name', 'DOB']"
   ]
  },
  {
   "cell_type": "markdown",
   "metadata": {},
   "source": [
    "### Return as a pandas table for easier viewing and exporting of data"
   ]
  },
  {
   "cell_type": "code",
   "execution_count": 139,
   "metadata": {},
   "outputs": [
    {
     "data": {
      "text/html": [
       "<div>\n",
       "<style scoped>\n",
       "    .dataframe tbody tr th:only-of-type {\n",
       "        vertical-align: middle;\n",
       "    }\n",
       "\n",
       "    .dataframe tbody tr th {\n",
       "        vertical-align: top;\n",
       "    }\n",
       "\n",
       "    .dataframe thead th {\n",
       "        text-align: right;\n",
       "    }\n",
       "</style>\n",
       "<table border=\"1\" class=\"dataframe\">\n",
       "  <thead>\n",
       "    <tr style=\"text-align: right;\">\n",
       "      <th></th>\n",
       "      <th>name</th>\n",
       "      <th>DOB</th>\n",
       "    </tr>\n",
       "  </thead>\n",
       "  <tbody>\n",
       "    <tr>\n",
       "      <th>0</th>\n",
       "      <td>Teresa</td>\n",
       "      <td>0001-01-01</td>\n",
       "    </tr>\n",
       "    <tr>\n",
       "      <th>1</th>\n",
       "      <td>Tracy</td>\n",
       "      <td>0002-01-01</td>\n",
       "    </tr>\n",
       "    <tr>\n",
       "      <th>2</th>\n",
       "      <td>Michael</td>\n",
       "      <td>0010-01-01</td>\n",
       "    </tr>\n",
       "  </tbody>\n",
       "</table>\n",
       "</div>"
      ],
      "text/plain": [
       "      name         DOB\n",
       "0   Teresa  0001-01-01\n",
       "1    Tracy  0002-01-01\n",
       "2  Michael  0010-01-01"
      ]
     },
     "execution_count": 139,
     "metadata": {},
     "output_type": "execute_result"
    }
   ],
   "source": [
    "records_list = []\n",
    "for record in records:\n",
    "    records_list.append(record.data())\n",
    "pd.DataFrame(records_list)"
   ]
  }
 ],
 "metadata": {
  "kernelspec": {
   "display_name": "Neo4jEnv",
   "language": "python",
   "name": "python3"
  },
  "language_info": {
   "codemirror_mode": {
    "name": "ipython",
    "version": 3
   },
   "file_extension": ".py",
   "mimetype": "text/x-python",
   "name": "python",
   "nbconvert_exporter": "python",
   "pygments_lexer": "ipython3",
   "version": "3.12.3"
  }
 },
 "nbformat": 4,
 "nbformat_minor": 2
}
